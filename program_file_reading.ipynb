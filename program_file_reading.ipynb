{
 "cells": [
  {
   "cell_type": "code",
   "execution_count": 1,
   "metadata": {
    "collapsed": true
   },
   "outputs": [
    {
     "name": "stdout",
     "output_type": "stream",
     "text": [
      "if __name__ == '__main__':\n",
      "    with open(\"main.py\") as file:\n",
      "        raw_code = file.read()\n",
      "print(raw_code)\n",
      "\n"
     ]
    }
   ],
   "source": [
    "with open(\"program_file_reading.py\") as file:\n",
    "    raw_code = file.read()\n",
    "\n",
    "print(raw_code)"
   ]
  },
  {
   "cell_type": "code",
   "execution_count": 59,
   "outputs": [],
   "source": [
    "import pylint.lint\n",
    "from pylint import epylint as lint\n",
    "\n",
    "# pylint_opts = ['--disable=line-too-long', 'main.py']\n",
    "# pylint_opts = ['--disable=line-too-long', 'program_file_reading.py']\n",
    "pylint_opts = ['--disable=line-too-long, invalid-name', '/home/asif/PycharmProjects/ScrappingScript/Scrapping_Time.py']\n",
    "try:\n",
    "    # pylint.lint.Run(pylint_opts)\n",
    "    (pylint_stdout, pylint_stderr) = lint.py_run('main.py', return_std=True)\n",
    "except Exception:\n",
    "    print(Exception)\n"
   ],
   "metadata": {
    "collapsed": false,
    "pycharm": {
     "name": "#%%\n"
    }
   }
  },
  {
   "cell_type": "code",
   "execution_count": 78,
   "outputs": [
    {
     "data": {
      "text/plain": "''"
     },
     "execution_count": 78,
     "metadata": {},
     "output_type": "execute_result"
    }
   ],
   "source": [
    "pylint_stdout.read()\n",
    "# pylint_stdout.getvalue()"
   ],
   "metadata": {
    "collapsed": false,
    "pycharm": {
     "name": "#%%\n"
    }
   }
  },
  {
   "cell_type": "code",
   "execution_count": 44,
   "outputs": [
    {
     "data": {
      "text/plain": "''"
     },
     "execution_count": 44,
     "metadata": {},
     "output_type": "execute_result"
    }
   ],
   "source": [
    "pylint_stderr.read()"
   ],
   "metadata": {
    "collapsed": false,
    "pycharm": {
     "name": "#%%\n"
    }
   }
  },
  {
   "cell_type": "code",
   "execution_count": null,
   "outputs": [],
   "source": [],
   "metadata": {
    "collapsed": false,
    "pycharm": {
     "name": "#%%\n"
    }
   }
  },
  {
   "cell_type": "code",
   "execution_count": 33,
   "outputs": [
    {
     "name": "stdout",
     "output_type": "stream",
     "text": [
      "************* Module test_file.py\n",
      "test_file.py:1:0: F0001: No module named test_file.py (fatal)\n",
      "\n"
     ]
    }
   ],
   "source": [
    "from io import StringIO\n",
    "\n",
    "from pylint.lint import Run\n",
    "from pylint.reporters.text import TextReporter\n",
    "\n",
    "pylint_output = StringIO()  # Custom open stream\n",
    "reporter = TextReporter(pylint_output)\n",
    "Run([\"test_file.py\"], reporter=reporter, do_exit=False)\n",
    "print(pylint_output.getvalue())  # Retrieve and print the text report\n",
    "\n"
   ],
   "metadata": {
    "collapsed": false,
    "pycharm": {
     "name": "#%%\n"
    }
   }
  },
  {
   "cell_type": "code",
   "execution_count": 24,
   "outputs": [
    {
     "ename": "SystemExit",
     "evalue": "20",
     "output_type": "error",
     "traceback": [
      "\u001B[0;31m---------------------------------------------------------------------------\u001B[0m",
      "\u001B[0;31mSystemExit\u001B[0m                                Traceback (most recent call last)",
      "Input \u001B[0;32mIn [22]\u001B[0m, in \u001B[0;36m<cell line: 6>\u001B[0;34m()\u001B[0m\n\u001B[1;32m      5\u001B[0m pylint_opts \u001B[38;5;241m=\u001B[39m [\u001B[38;5;124m'\u001B[39m\u001B[38;5;124m--disable=line-too-long, invalid-name\u001B[39m\u001B[38;5;124m'\u001B[39m, \u001B[38;5;124m'\u001B[39m\u001B[38;5;124m/home/asif/PycharmProjects/ScrappingScript/Scrapping_Time.py\u001B[39m\u001B[38;5;124m'\u001B[39m]\n\u001B[1;32m      6\u001B[0m \u001B[38;5;28;01mtry\u001B[39;00m:\n\u001B[0;32m----> 7\u001B[0m     \u001B[43mpylint\u001B[49m\u001B[38;5;241;43m.\u001B[39;49m\u001B[43mlint\u001B[49m\u001B[38;5;241;43m.\u001B[39;49m\u001B[43mRun\u001B[49m\u001B[43m(\u001B[49m\u001B[43mpylint_opts\u001B[49m\u001B[43m)\u001B[49m\n\u001B[1;32m      8\u001B[0m \u001B[38;5;28;01mexcept\u001B[39;00m \u001B[38;5;167;01mException\u001B[39;00m:\n\u001B[1;32m      9\u001B[0m     \u001B[38;5;28mprint\u001B[39m(\u001B[38;5;167;01mException\u001B[39;00m)\n",
      "File \u001B[0;32m~/.local/share/virtualenvs/ProgramAnalysis-fiS0nUOp/lib/python3.8/site-packages/pylint/lint/run.py:421\u001B[0m, in \u001B[0;36mRun.__init__\u001B[0;34m(self, args, reporter, exit, do_exit)\u001B[0m\n\u001B[1;32m    417\u001B[0m         sys\u001B[38;5;241m.\u001B[39mexit(\u001B[38;5;241m0\u001B[39m)\n\u001B[1;32m    418\u001B[0m     \u001B[38;5;28;01melse\u001B[39;00m:\n\u001B[1;32m    419\u001B[0m         \u001B[38;5;66;03m# We need to make sure we return a failing exit code in this case.\u001B[39;00m\n\u001B[1;32m    420\u001B[0m         \u001B[38;5;66;03m# So we use self.linter.msg_status if that is non-zero, otherwise we just return 1.\u001B[39;00m\n\u001B[0;32m--> 421\u001B[0m         \u001B[43msys\u001B[49m\u001B[38;5;241;43m.\u001B[39;49m\u001B[43mexit\u001B[49m\u001B[43m(\u001B[49m\u001B[38;5;28;43mself\u001B[39;49m\u001B[38;5;241;43m.\u001B[39;49m\u001B[43mlinter\u001B[49m\u001B[38;5;241;43m.\u001B[39;49m\u001B[43mmsg_status\u001B[49m\u001B[43m \u001B[49m\u001B[38;5;129;43;01mor\u001B[39;49;00m\u001B[43m \u001B[49m\u001B[38;5;241;43m1\u001B[39;49m\u001B[43m)\u001B[49m\n\u001B[1;32m    422\u001B[0m \u001B[38;5;28;01melse\u001B[39;00m:\n\u001B[1;32m    423\u001B[0m     sys\u001B[38;5;241m.\u001B[39mexit(\u001B[38;5;28mself\u001B[39m\u001B[38;5;241m.\u001B[39mlinter\u001B[38;5;241m.\u001B[39mmsg_status)\n",
      "\u001B[0;31mSystemExit\u001B[0m: 20"
     ]
    }
   ],
   "source": [
    "%tb"
   ],
   "metadata": {
    "collapsed": false,
    "pycharm": {
     "name": "#%%\n"
    }
   }
  }
 ],
 "metadata": {
  "kernelspec": {
   "display_name": "Python 3",
   "language": "python",
   "name": "python3"
  },
  "language_info": {
   "codemirror_mode": {
    "name": "ipython",
    "version": 2
   },
   "file_extension": ".py",
   "mimetype": "text/x-python",
   "name": "python",
   "nbconvert_exporter": "python",
   "pygments_lexer": "ipython2",
   "version": "2.7.6"
  }
 },
 "nbformat": 4,
 "nbformat_minor": 0
}