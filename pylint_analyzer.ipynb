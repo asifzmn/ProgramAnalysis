{
 "cells": [
  {
   "cell_type": "code",
   "execution_count": 1,
   "metadata": {
    "collapsed": true
   },
   "outputs": [
    {
     "name": "stdout",
     "output_type": "stream",
     "text": [
      "if __name__ == '__main__':\n",
      "    # with open(\"main.py\") as file:\n",
      "    #     raw_code = file.read()\n",
      "    # print(raw_code)\n",
      "\n",
      "    import pylint.lint\n",
      "\n",
      "    # pylint_opts = ['--disable=line-too-long', 'main.py']\n",
      "    # pylint_opts = ['--disable=line-too-long', 'program_file_reading.py']\n",
      "    pylint_opts = ['--disable=line-too-long', '/home/asif/PycharmProjects/ScrappingScript/Scrapping_Time.py']\n",
      "    try:\n",
      "        pylint.lint.Run(pylint_opts)\n",
      "    except Exception:\n",
      "        print(Exception)\n",
      "\n"
     ]
    }
   ],
   "source": [
    "with open(\"program_file_reading.py\") as file:\n",
    "    raw_code = file.read()\n",
    "\n",
    "print(raw_code)"
   ]
  },
  {
   "cell_type": "code",
   "execution_count": 4,
   "outputs": [],
   "source": [
    "import pylint.lint\n",
    "from pylint import epylint as lint\n",
    "\n",
    "module_name = 'test.py'\n",
    "\n",
    "pylint_opts = ['--disable=line-too-long', module_name]\n",
    "\n",
    "# try:\n",
    "#     # pylint.lint.Run(pylint_opts)\n",
    "#     (pylint_stdout, pylint_stderr) = lint.py_run('test.py', return_std=True)\n",
    "# except Exception:\n",
    "#     print(Exception)\n",
    "\n",
    "(pylint_stdout, pylint_stderr) = lint.py_run(module_name, return_std=True)\n"
   ],
   "metadata": {
    "collapsed": false,
    "pycharm": {
     "name": "#%%\n"
    }
   }
  },
  {
   "cell_type": "code",
   "execution_count": 6,
   "outputs": [
    {
     "data": {
      "text/plain": "str"
     },
     "execution_count": 6,
     "metadata": {},
     "output_type": "execute_result"
    }
   ],
   "source": [
    "# pylint_stdout.read()\n",
    "pylint_stdout.getvalue()"
   ],
   "metadata": {
    "collapsed": false,
    "pycharm": {
     "name": "#%%\n"
    }
   }
  },
  {
   "cell_type": "code",
   "execution_count": 4,
   "outputs": [
    {
     "data": {
      "text/plain": "''"
     },
     "execution_count": 4,
     "metadata": {},
     "output_type": "execute_result"
    }
   ],
   "source": [
    "pylint_stderr.read()"
   ],
   "metadata": {
    "collapsed": false,
    "pycharm": {
     "name": "#%%\n"
    }
   }
  },
  {
   "cell_type": "code",
   "execution_count": 4,
   "outputs": [],
   "source": [],
   "metadata": {
    "collapsed": false,
    "pycharm": {
     "name": "#%%\n"
    }
   }
  },
  {
   "cell_type": "code",
   "execution_count": 6,
   "outputs": [
    {
     "name": "stdout",
     "output_type": "stream",
     "text": [
      "************* Module test_file.py\n",
      "test_file.py:1:0: F0001: No module named test_file.py (fatal)\n",
      "\n"
     ]
    }
   ],
   "source": [
    "from io import StringIO\n",
    "\n",
    "from pylint.lint import Run\n",
    "from pylint.reporters.text import TextReporter\n",
    "\n",
    "pylint_output = StringIO()  # Custom open stream\n",
    "reporter = TextReporter(pylint_output)\n",
    "Run([\"test_file.py\"], reporter=reporter, do_exit=False)\n",
    "print(pylint_output.getvalue())  # Retrieve and print the text report\n",
    "\n"
   ],
   "metadata": {
    "collapsed": false,
    "pycharm": {
     "name": "#%%\n"
    }
   }
  },
  {
   "cell_type": "code",
   "execution_count": 24,
   "outputs": [
    {
     "ename": "SystemExit",
     "evalue": "20",
     "output_type": "error",
     "traceback": [
      "\u001B[0;31m---------------------------------------------------------------------------\u001B[0m",
      "\u001B[0;31mSystemExit\u001B[0m                                Traceback (most recent call last)",
      "Input \u001B[0;32mIn [22]\u001B[0m, in \u001B[0;36m<cell line: 6>\u001B[0;34m()\u001B[0m\n\u001B[1;32m      5\u001B[0m pylint_opts \u001B[38;5;241m=\u001B[39m [\u001B[38;5;124m'\u001B[39m\u001B[38;5;124m--disable=line-too-long, invalid-name\u001B[39m\u001B[38;5;124m'\u001B[39m, \u001B[38;5;124m'\u001B[39m\u001B[38;5;124m/home/asif/PycharmProjects/ScrappingScript/Scrapping_Time.py\u001B[39m\u001B[38;5;124m'\u001B[39m]\n\u001B[1;32m      6\u001B[0m \u001B[38;5;28;01mtry\u001B[39;00m:\n\u001B[0;32m----> 7\u001B[0m     \u001B[43mpylint\u001B[49m\u001B[38;5;241;43m.\u001B[39;49m\u001B[43mlint\u001B[49m\u001B[38;5;241;43m.\u001B[39;49m\u001B[43mRun\u001B[49m\u001B[43m(\u001B[49m\u001B[43mpylint_opts\u001B[49m\u001B[43m)\u001B[49m\n\u001B[1;32m      8\u001B[0m \u001B[38;5;28;01mexcept\u001B[39;00m \u001B[38;5;167;01mException\u001B[39;00m:\n\u001B[1;32m      9\u001B[0m     \u001B[38;5;28mprint\u001B[39m(\u001B[38;5;167;01mException\u001B[39;00m)\n",
      "File \u001B[0;32m~/.local/share/virtualenvs/ProgramAnalysis-fiS0nUOp/lib/python3.8/site-packages/pylint/lint/run.py:421\u001B[0m, in \u001B[0;36mRun.__init__\u001B[0;34m(self, args, reporter, exit, do_exit)\u001B[0m\n\u001B[1;32m    417\u001B[0m         sys\u001B[38;5;241m.\u001B[39mexit(\u001B[38;5;241m0\u001B[39m)\n\u001B[1;32m    418\u001B[0m     \u001B[38;5;28;01melse\u001B[39;00m:\n\u001B[1;32m    419\u001B[0m         \u001B[38;5;66;03m# We need to make sure we return a failing exit code in this case.\u001B[39;00m\n\u001B[1;32m    420\u001B[0m         \u001B[38;5;66;03m# So we use self.linter.msg_status if that is non-zero, otherwise we just return 1.\u001B[39;00m\n\u001B[0;32m--> 421\u001B[0m         \u001B[43msys\u001B[49m\u001B[38;5;241;43m.\u001B[39;49m\u001B[43mexit\u001B[49m\u001B[43m(\u001B[49m\u001B[38;5;28;43mself\u001B[39;49m\u001B[38;5;241;43m.\u001B[39;49m\u001B[43mlinter\u001B[49m\u001B[38;5;241;43m.\u001B[39;49m\u001B[43mmsg_status\u001B[49m\u001B[43m \u001B[49m\u001B[38;5;129;43;01mor\u001B[39;49;00m\u001B[43m \u001B[49m\u001B[38;5;241;43m1\u001B[39;49m\u001B[43m)\u001B[49m\n\u001B[1;32m    422\u001B[0m \u001B[38;5;28;01melse\u001B[39;00m:\n\u001B[1;32m    423\u001B[0m     sys\u001B[38;5;241m.\u001B[39mexit(\u001B[38;5;28mself\u001B[39m\u001B[38;5;241m.\u001B[39mlinter\u001B[38;5;241m.\u001B[39mmsg_status)\n",
      "\u001B[0;31mSystemExit\u001B[0m: 20"
     ]
    }
   ],
   "source": [
    "%tb"
   ],
   "metadata": {
    "collapsed": false,
    "pycharm": {
     "name": "#%%\n"
    }
   }
  },
  {
   "cell_type": "code",
   "execution_count": null,
   "outputs": [],
   "source": [],
   "metadata": {
    "collapsed": false,
    "pycharm": {
     "name": "#%%\n"
    }
   }
  },
  {
   "cell_type": "code",
   "execution_count": 7,
   "outputs": [],
   "source": [
    "import astroid\n",
    "from astroid import nodes\n",
    "\n",
    "from pylint.checkers import BaseChecker\n",
    "from pylint.interfaces import IAstroidChecker\n",
    "from pylint.lint import PyLinter\n",
    "\n",
    "from typing import TYPE_CHECKING\n",
    "\n",
    "if TYPE_CHECKING:\n",
    "    from pylint.lint import PyLinter\n",
    "\n",
    "\n",
    "def register(linter: \"PyLinter\") -> None:\n",
    "    \"\"\"This required method auto registers the checker during initialization.\n",
    "\n",
    "    :param linter: The linter to register the checker to.\n",
    "    \"\"\"\n",
    "    linter.register_checker(UniqueReturnChecker(linter))\n",
    "\n",
    "\n",
    "class UniqueReturnChecker(BaseChecker):\n",
    "    __implements__ = IAstroidChecker\n",
    "\n",
    "    name = 'unique-returns'\n",
    "    priority = -1\n",
    "    msgs = {\n",
    "        'W0001': (\n",
    "            'Returns a non-unique constant.',\n",
    "            'non-unique-returns',\n",
    "            'All constants returned in a function should be unique.'\n",
    "        ),\n",
    "    }\n",
    "\n",
    "    options = (\n",
    "        (\n",
    "            'ignore-ints',\n",
    "            {\n",
    "                'default': False, 'type': 'yn', 'metavar': '<y or n>',\n",
    "                'help': 'Allow returning non-unique integers',\n",
    "            }\n",
    "        ),\n",
    "    )\n",
    "\n",
    "    def __init__(self, linter: PyLinter = None) -> None:\n",
    "        super(UniqueReturnChecker, self).__init__(linter)\n",
    "        # super().__init__(linter)\n",
    "        self._function_stack = []\n",
    "\n",
    "    def visit_functiondef(self, node: nodes.FunctionDef) -> None:\n",
    "        self._function_stack.append([])\n",
    "\n",
    "    def leave_functiondef(self, node: nodes.FunctionDef) -> None:\n",
    "        self._function_stack.pop()\n",
    "\n",
    "    def visit_return(self, node: nodes.Return) -> None:\n",
    "        if not isinstance(node.value, nodes.Const):\n",
    "            return\n",
    "\n",
    "        for other_return in self._function_stack[-1]:\n",
    "            if (node.value.value == other_return.value.value and\n",
    "                    not (self.config.ignore_ints and node.value.pytype() == int)):\n",
    "                self.add_message(\n",
    "                    'non-unique-returns', node=node,\n",
    "                )\n",
    "\n",
    "        self._function_stack[-1].append(node)\n",
    "\n"
   ],
   "metadata": {
    "collapsed": false,
    "pycharm": {
     "name": "#%%\n"
    }
   }
  },
  {
   "cell_type": "code",
   "execution_count": null,
   "outputs": [],
   "source": [
    "node = astroid.extract_node(\"return 1\")"
   ],
   "metadata": {
    "collapsed": false,
    "pycharm": {
     "name": "#%%\n"
    }
   }
  },
  {
   "cell_type": "code",
   "execution_count": 41,
   "outputs": [
    {
     "data": {
      "text/plain": "<Const.int l.7 at 0x7f457b709130>"
     },
     "execution_count": 41,
     "metadata": {},
     "output_type": "execute_result"
    }
   ],
   "source": [
    "node_a, node_b = astroid.extract_node(\"\"\"\n",
    "\n",
    "def test():\n",
    "\n",
    "    if True:\n",
    "\n",
    "        return 5 #@\n",
    "\n",
    "    return 5 #@\n",
    "\n",
    "\"\"\")\n",
    "\n",
    "node_a.value\n",
    "# <Const.int l.4 at 0x7efe621a74e0>"
   ],
   "metadata": {
    "collapsed": false,
    "pycharm": {
     "name": "#%%\n"
    }
   }
  },
  {
   "cell_type": "code",
   "execution_count": 38,
   "outputs": [
    {
     "data": {
      "text/plain": "5"
     },
     "execution_count": 38,
     "metadata": {},
     "output_type": "execute_result"
    }
   ],
   "source": [
    "\n",
    "node_a.value.value\n",
    "# 5"
   ],
   "metadata": {
    "collapsed": false,
    "pycharm": {
     "name": "#%%\n"
    }
   }
  },
  {
   "cell_type": "code",
   "execution_count": 33,
   "outputs": [
    {
     "data": {
      "text/plain": "False"
     },
     "execution_count": 33,
     "metadata": {},
     "output_type": "execute_result"
    }
   ],
   "source": [
    "\n",
    "node_a.value.value == node_b.value.value\n",
    "# True"
   ],
   "metadata": {
    "collapsed": false,
    "pycharm": {
     "name": "#%%\n"
    }
   }
  },
  {
   "cell_type": "code",
   "execution_count": 23,
   "outputs": [
    {
     "data": {
      "text/plain": "<Return l.1 at 0x7f457ba69bb0>"
     },
     "execution_count": 23,
     "metadata": {},
     "output_type": "execute_result"
    }
   ],
   "source": [
    "node"
   ],
   "metadata": {
    "collapsed": false,
    "pycharm": {
     "name": "#%%\n"
    }
   }
  },
  {
   "cell_type": "code",
   "execution_count": null,
   "outputs": [],
   "source": [
    "help(node)"
   ],
   "metadata": {
    "collapsed": false,
    "pycharm": {
     "name": "#%%\n"
    }
   }
  },
  {
   "cell_type": "code",
   "execution_count": 18,
   "outputs": [
    {
     "data": {
      "text/plain": "<Const.int l.1 at 0x7f457ba69e50>"
     },
     "execution_count": 18,
     "metadata": {},
     "output_type": "execute_result"
    }
   ],
   "source": [
    "node.value"
   ],
   "metadata": {
    "collapsed": false,
    "pycharm": {
     "name": "#%%\n"
    }
   }
  },
  {
   "cell_type": "code",
   "execution_count": 42,
   "outputs": [],
   "source": [],
   "metadata": {
    "collapsed": false,
    "pycharm": {
     "name": "#%%\n"
    }
   }
  }
 ],
 "metadata": {
  "kernelspec": {
   "display_name": "Python 3",
   "language": "python",
   "name": "python3"
  },
  "language_info": {
   "codemirror_mode": {
    "name": "ipython",
    "version": 2
   },
   "file_extension": ".py",
   "mimetype": "text/x-python",
   "name": "python",
   "nbconvert_exporter": "python",
   "pygments_lexer": "ipython2",
   "version": "2.7.6"
  }
 },
 "nbformat": 4,
 "nbformat_minor": 0
}